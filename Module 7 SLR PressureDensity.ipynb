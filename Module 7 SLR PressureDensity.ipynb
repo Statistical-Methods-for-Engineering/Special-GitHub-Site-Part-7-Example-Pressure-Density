{
 "cells": [
  {
   "cell_type": "code",
   "execution_count": 1,
   "id": "18fb223e-6295-4658-ac9b-ee90bd387984",
   "metadata": {},
   "outputs": [],
   "source": [
    "import numpy as np\n",
    "import pandas as pd\n",
    "\n",
    "pressure = np.repeat([2000, 4000, 6000, 8000, 10000], repeats=3)\n",
    "density = np.array([\n",
    "    2.486, 2.479, 2.472, 2.558, 2.570, 2.580,\n",
    "    2.646, 2.657, 2.653, 2.724, 2.774, 2.808,\n",
    "    2.861, 2.879, 2.858\n",
    "])\n",
    "\n",
    "df = pd.DataFrame({'pressure':pressure, 'density':density})"
   ]
  },
  {
   "cell_type": "code",
   "execution_count": 2,
   "id": "b7cd742c-77ff-4a65-8036-f4076909457a",
   "metadata": {
    "tags": []
   },
   "outputs": [
    {
     "name": "stdout",
     "output_type": "stream",
     "text": [
      "                  Results: Ordinary least squares\n",
      "===================================================================\n",
      "Model:              OLS              Adj. R-squared:     0.981     \n",
      "Dependent Variable: density          AIC:                -73.0762  \n",
      "Date:               2024-02-14 17:05 BIC:                -71.6601  \n",
      "No. Observations:   15               Log-Likelihood:     38.538    \n",
      "Df Model:           1                F-statistic:        717.1     \n",
      "Df Residuals:       13               Prob (F-statistic): 9.31e-13  \n",
      "R-squared:          0.982            Scale:              0.00039636\n",
      "---------------------------------------------------------------------\n",
      "              Coef.    Std.Err.      t       P>|t|    [0.025   0.975]\n",
      "---------------------------------------------------------------------\n",
      "Intercept     2.3750     0.0121   197.0079   0.0000   2.3490   2.4010\n",
      "pressure      0.0000     0.0000    26.7780   0.0000   0.0000   0.0001\n",
      "-------------------------------------------------------------------\n",
      "Omnibus:                2.101        Durbin-Watson:           1.682\n",
      "Prob(Omnibus):          0.350        Jarque-Bera (JB):        0.427\n",
      "Skew:                   0.137        Prob(JB):                0.808\n",
      "Kurtosis:               3.780        Condition No.:           15556\n",
      "===================================================================\n",
      "Notes:\n",
      "[1] Standard Errors assume that the covariance matrix of the errors\n",
      "is correctly specified.\n",
      "[2] The condition number is large, 1.56e+04. This might indicate\n",
      "that there are strong multicollinearity or other numerical\n",
      "problems.\n"
     ]
    },
    {
     "name": "stderr",
     "output_type": "stream",
     "text": [
      "C:\\Users\\carol\\anaconda3\\Lib\\site-packages\\scipy\\stats\\_stats_py.py:1806: UserWarning: kurtosistest only valid for n>=20 ... continuing anyway, n=15\n",
      "  warnings.warn(\"kurtosistest only valid for n>=20 ... continuing \"\n"
     ]
    }
   ],
   "source": [
    "#Fit the OLS regression line model\n",
    "\n",
    "from statsmodels.formula.api import ols\n",
    "\n",
    "# Creating the linear model, produce the fit, and print out the summmary of the regression model\n",
    "model=ols('density~pressure',data=df)\n",
    "results=model.fit()\n",
    "print(results.summary2())"
   ]
  },
  {
   "cell_type": "code",
   "execution_count": 3,
   "id": "e714a918-5ab3-4cf2-9e97-4de4a35df411",
   "metadata": {
    "tags": []
   },
   "outputs": [
    {
     "data": {
      "text/plain": [
       "Intercept    2.375000\n",
       "pressure     0.000049\n",
       "dtype: float64"
      ]
     },
     "execution_count": 3,
     "metadata": {},
     "output_type": "execute_result"
    }
   ],
   "source": [
    "# show the coefficients of the model\n",
    "\n",
    "results.params"
   ]
  },
  {
   "cell_type": "code",
   "execution_count": 4,
   "id": "bdbf427e-af93-413a-9549-834060810a5c",
   "metadata": {
    "tags": []
   },
   "outputs": [
    {
     "name": "stdout",
     "output_type": "stream",
     "text": [
      "The regression equation is\n",
      "density = 2.375 + 4.867e-05 *pressure\n"
     ]
    }
   ],
   "source": [
    "print(\"The regression equation is\")\n",
    "print(\"density =\",f'{results.params[\"Intercept\"]:.4}' ,\"+\",f'{results.params[\"pressure\"]:.4}',\"*pressure\")"
   ]
  },
  {
   "cell_type": "code",
   "execution_count": 5,
   "id": "dc4415f2-f2f6-4d66-805b-5cbc54ab2e36",
   "metadata": {
    "tags": []
   },
   "outputs": [
    {
     "name": "stdout",
     "output_type": "stream",
     "text": [
      "            df    sum_sq   mean_sq           F        PR(>F)\n",
      "pressure   1.0  0.284213  0.284213  717.060422  9.306841e-13\n",
      "Residual  13.0  0.005153  0.000396         NaN           NaN\n"
     ]
    }
   ],
   "source": [
    "# prodcue the ANOVA table\n",
    "\n",
    "from statsmodels.stats.anova import anova_lm\n",
    "\n",
    "anova_results = anova_lm(results)\n",
    "print(anova_results)"
   ]
  },
  {
   "cell_type": "code",
   "execution_count": 6,
   "id": "2f093f67-a6e0-4e95-9661-ddf48de4c9c1",
   "metadata": {
    "tags": []
   },
   "outputs": [],
   "source": [
    "# save    model    fits    and    residuals\n",
    "\n",
    "# Predicting using the model, and obtaining standard errors\n",
    "pred_summary_frame = results.get_prediction(df[\"pressure\"]).summary_frame(alpha=0.05)[['mean', 'mean_se']]\n",
    "\n",
    "# Fitted values (i.e., the predicted values of the dependent variable)\n",
    "ls_fits = pred_summary_frame['mean']\n",
    "\n",
    "# Mean standard error \n",
    "ls_sdfit = pred_summary_frame['mean_se']\n",
    "\n",
    "# Residuals (i.e., the difference between the observed values and the fitted values)\n",
    "ls_resids=results.resid"
   ]
  },
  {
   "cell_type": "code",
   "execution_count": 7,
   "id": "18734213-e18b-4788-8633-096af4b8e6d3",
   "metadata": {
    "tags": []
   },
   "outputs": [],
   "source": [
    "# get the standardized residuals \n",
    "\n",
    "#create instance of influence\n",
    "influence = results.get_influence()\n",
    "\n",
    "# standardized residuals\n",
    "ls_standresids = influence.resid_studentized_internal"
   ]
  },
  {
   "cell_type": "code",
   "execution_count": 8,
   "id": "eb685f09-df02-46c7-91c5-d892fb0396f3",
   "metadata": {
    "tags": []
   },
   "outputs": [
    {
     "name": "stdout",
     "output_type": "stream",
     "text": [
      "    pressure  density       Fit  StDev Fit  Residual  St Resid\n",
      "0       2000    2.486  2.472333   0.008903  0.013667  0.767491\n",
      "1       2000    2.479  2.472333   0.008903  0.006667  0.374386\n",
      "2       2000    2.472  2.472333   0.008903 -0.000333 -0.018719\n",
      "3       4000    2.558  2.569667   0.006296 -0.011667 -0.617705\n",
      "4       4000    2.570  2.569667   0.006296  0.000333  0.017649\n",
      "5       4000    2.580  2.569667   0.006296  0.010333  0.547110\n",
      "6       6000    2.646  2.667000   0.005140 -0.021000 -1.091834\n",
      "7       6000    2.657  2.667000   0.005140 -0.010000 -0.519921\n",
      "8       6000    2.653  2.667000   0.005140 -0.014000 -0.727889\n",
      "9       8000    2.724  2.764333   0.006296 -0.040333 -2.135495\n",
      "10      8000    2.774  2.764333   0.006296  0.009667  0.511813\n",
      "11      8000    2.808  2.764333   0.006296  0.043667  2.311982\n",
      "12     10000    2.861  2.861667   0.008903 -0.000667 -0.037439\n",
      "13     10000    2.879  2.861667   0.008903  0.017333  0.973403\n",
      "14     10000    2.858  2.861667   0.008903 -0.003667 -0.205912\n"
     ]
    }
   ],
   "source": [
    "# display    the    data    along    with    fitted    values,    standard    deviations    of    fit, \n",
    "# residuals,    and    standardized    residuals\n",
    "\n",
    "# Create a DataFrame\n",
    "data = pd.DataFrame({\n",
    "    'pressure': pressure,\n",
    "    'density': density,\n",
    "    'Fit': ls_fits,\n",
    "    'StDev Fit': ls_sdfit,  # Assuming std_err is the standard deviation of the fit\n",
    "    'Residual': ls_resids,\n",
    "    'St Resid': ls_standresids\n",
    "})\n",
    "\n",
    "print(data)"
   ]
  },
  {
   "cell_type": "code",
   "execution_count": 9,
   "id": "711b0595-b127-4198-ae25-432fd8247e2f",
   "metadata": {
    "tags": []
   },
   "outputs": [
    {
     "data": {
      "text/plain": [
       "0     0.013667\n",
       "1     0.006667\n",
       "2    -0.000333\n",
       "3    -0.011667\n",
       "4     0.000333\n",
       "5     0.010333\n",
       "6    -0.021000\n",
       "7    -0.010000\n",
       "8    -0.014000\n",
       "9    -0.040333\n",
       "10    0.009667\n",
       "11    0.043667\n",
       "12   -0.000667\n",
       "13    0.017333\n",
       "14   -0.003667\n",
       "dtype: float64"
      ]
     },
     "execution_count": 9,
     "metadata": {},
     "output_type": "execute_result"
    }
   ],
   "source": [
    "# or can call some of the fitted results attributes each\n",
    "results.predict()\n",
    "results.fittedvalues\n",
    "results.resid"
   ]
  },
  {
   "cell_type": "code",
   "execution_count": 10,
   "id": "0fbb2d22-de95-4ed3-bcb6-5fee43047d47",
   "metadata": {
    "tags": []
   },
   "outputs": [
    {
     "data": {
      "text/html": [
       "<div>\n",
       "<style scoped>\n",
       "    .dataframe tbody tr th:only-of-type {\n",
       "        vertical-align: middle;\n",
       "    }\n",
       "\n",
       "    .dataframe tbody tr th {\n",
       "        vertical-align: top;\n",
       "    }\n",
       "\n",
       "    .dataframe thead th {\n",
       "        text-align: right;\n",
       "    }\n",
       "</style>\n",
       "<table border=\"1\" class=\"dataframe\">\n",
       "  <thead>\n",
       "    <tr style=\"text-align: right;\">\n",
       "      <th></th>\n",
       "      <th>mean</th>\n",
       "      <th>mean_se</th>\n",
       "      <th>mean_ci_lower</th>\n",
       "      <th>mean_ci_upper</th>\n",
       "      <th>obs_ci_lower</th>\n",
       "      <th>obs_ci_upper</th>\n",
       "    </tr>\n",
       "  </thead>\n",
       "  <tbody>\n",
       "    <tr>\n",
       "      <th>0</th>\n",
       "      <td>2.472333</td>\n",
       "      <td>0.008903</td>\n",
       "      <td>2.453099</td>\n",
       "      <td>2.491568</td>\n",
       "      <td>2.425218</td>\n",
       "      <td>2.519449</td>\n",
       "    </tr>\n",
       "    <tr>\n",
       "      <th>1</th>\n",
       "      <td>2.472333</td>\n",
       "      <td>0.008903</td>\n",
       "      <td>2.453099</td>\n",
       "      <td>2.491568</td>\n",
       "      <td>2.425218</td>\n",
       "      <td>2.519449</td>\n",
       "    </tr>\n",
       "    <tr>\n",
       "      <th>2</th>\n",
       "      <td>2.472333</td>\n",
       "      <td>0.008903</td>\n",
       "      <td>2.453099</td>\n",
       "      <td>2.491568</td>\n",
       "      <td>2.425218</td>\n",
       "      <td>2.519449</td>\n",
       "    </tr>\n",
       "    <tr>\n",
       "      <th>3</th>\n",
       "      <td>2.569667</td>\n",
       "      <td>0.006296</td>\n",
       "      <td>2.556066</td>\n",
       "      <td>2.583268</td>\n",
       "      <td>2.524557</td>\n",
       "      <td>2.614776</td>\n",
       "    </tr>\n",
       "    <tr>\n",
       "      <th>4</th>\n",
       "      <td>2.569667</td>\n",
       "      <td>0.006296</td>\n",
       "      <td>2.556066</td>\n",
       "      <td>2.583268</td>\n",
       "      <td>2.524557</td>\n",
       "      <td>2.614776</td>\n",
       "    </tr>\n",
       "    <tr>\n",
       "      <th>5</th>\n",
       "      <td>2.569667</td>\n",
       "      <td>0.006296</td>\n",
       "      <td>2.556066</td>\n",
       "      <td>2.583268</td>\n",
       "      <td>2.524557</td>\n",
       "      <td>2.614776</td>\n",
       "    </tr>\n",
       "    <tr>\n",
       "      <th>6</th>\n",
       "      <td>2.667000</td>\n",
       "      <td>0.005140</td>\n",
       "      <td>2.655895</td>\n",
       "      <td>2.678105</td>\n",
       "      <td>2.622579</td>\n",
       "      <td>2.711421</td>\n",
       "    </tr>\n",
       "    <tr>\n",
       "      <th>7</th>\n",
       "      <td>2.667000</td>\n",
       "      <td>0.005140</td>\n",
       "      <td>2.655895</td>\n",
       "      <td>2.678105</td>\n",
       "      <td>2.622579</td>\n",
       "      <td>2.711421</td>\n",
       "    </tr>\n",
       "    <tr>\n",
       "      <th>8</th>\n",
       "      <td>2.667000</td>\n",
       "      <td>0.005140</td>\n",
       "      <td>2.655895</td>\n",
       "      <td>2.678105</td>\n",
       "      <td>2.622579</td>\n",
       "      <td>2.711421</td>\n",
       "    </tr>\n",
       "    <tr>\n",
       "      <th>9</th>\n",
       "      <td>2.764333</td>\n",
       "      <td>0.006296</td>\n",
       "      <td>2.750732</td>\n",
       "      <td>2.777934</td>\n",
       "      <td>2.719224</td>\n",
       "      <td>2.809443</td>\n",
       "    </tr>\n",
       "    <tr>\n",
       "      <th>10</th>\n",
       "      <td>2.764333</td>\n",
       "      <td>0.006296</td>\n",
       "      <td>2.750732</td>\n",
       "      <td>2.777934</td>\n",
       "      <td>2.719224</td>\n",
       "      <td>2.809443</td>\n",
       "    </tr>\n",
       "    <tr>\n",
       "      <th>11</th>\n",
       "      <td>2.764333</td>\n",
       "      <td>0.006296</td>\n",
       "      <td>2.750732</td>\n",
       "      <td>2.777934</td>\n",
       "      <td>2.719224</td>\n",
       "      <td>2.809443</td>\n",
       "    </tr>\n",
       "    <tr>\n",
       "      <th>12</th>\n",
       "      <td>2.861667</td>\n",
       "      <td>0.008903</td>\n",
       "      <td>2.842432</td>\n",
       "      <td>2.880901</td>\n",
       "      <td>2.814551</td>\n",
       "      <td>2.908782</td>\n",
       "    </tr>\n",
       "    <tr>\n",
       "      <th>13</th>\n",
       "      <td>2.861667</td>\n",
       "      <td>0.008903</td>\n",
       "      <td>2.842432</td>\n",
       "      <td>2.880901</td>\n",
       "      <td>2.814551</td>\n",
       "      <td>2.908782</td>\n",
       "    </tr>\n",
       "    <tr>\n",
       "      <th>14</th>\n",
       "      <td>2.861667</td>\n",
       "      <td>0.008903</td>\n",
       "      <td>2.842432</td>\n",
       "      <td>2.880901</td>\n",
       "      <td>2.814551</td>\n",
       "      <td>2.908782</td>\n",
       "    </tr>\n",
       "  </tbody>\n",
       "</table>\n",
       "</div>"
      ],
      "text/plain": [
       "        mean   mean_se  mean_ci_lower  mean_ci_upper  obs_ci_lower  \\\n",
       "0   2.472333  0.008903       2.453099       2.491568      2.425218   \n",
       "1   2.472333  0.008903       2.453099       2.491568      2.425218   \n",
       "2   2.472333  0.008903       2.453099       2.491568      2.425218   \n",
       "3   2.569667  0.006296       2.556066       2.583268      2.524557   \n",
       "4   2.569667  0.006296       2.556066       2.583268      2.524557   \n",
       "5   2.569667  0.006296       2.556066       2.583268      2.524557   \n",
       "6   2.667000  0.005140       2.655895       2.678105      2.622579   \n",
       "7   2.667000  0.005140       2.655895       2.678105      2.622579   \n",
       "8   2.667000  0.005140       2.655895       2.678105      2.622579   \n",
       "9   2.764333  0.006296       2.750732       2.777934      2.719224   \n",
       "10  2.764333  0.006296       2.750732       2.777934      2.719224   \n",
       "11  2.764333  0.006296       2.750732       2.777934      2.719224   \n",
       "12  2.861667  0.008903       2.842432       2.880901      2.814551   \n",
       "13  2.861667  0.008903       2.842432       2.880901      2.814551   \n",
       "14  2.861667  0.008903       2.842432       2.880901      2.814551   \n",
       "\n",
       "    obs_ci_upper  \n",
       "0       2.519449  \n",
       "1       2.519449  \n",
       "2       2.519449  \n",
       "3       2.614776  \n",
       "4       2.614776  \n",
       "5       2.614776  \n",
       "6       2.711421  \n",
       "7       2.711421  \n",
       "8       2.711421  \n",
       "9       2.809443  \n",
       "10      2.809443  \n",
       "11      2.809443  \n",
       "12      2.908782  \n",
       "13      2.908782  \n",
       "14      2.908782  "
      ]
     },
     "execution_count": 10,
     "metadata": {},
     "output_type": "execute_result"
    }
   ],
   "source": [
    "# or can print the df from the fitted results\n",
    "\n",
    "results.get_prediction(df[\"pressure\"]).summary_frame(alpha=0.05)"
   ]
  },
  {
   "cell_type": "code",
   "execution_count": 11,
   "id": "403a4d25-a2ab-475c-be04-4cce8d305c68",
   "metadata": {
    "tags": []
   },
   "outputs": [
    {
     "data": {
      "text/html": [
       "<div>\n",
       "<style scoped>\n",
       "    .dataframe tbody tr th:only-of-type {\n",
       "        vertical-align: middle;\n",
       "    }\n",
       "\n",
       "    .dataframe tbody tr th {\n",
       "        vertical-align: top;\n",
       "    }\n",
       "\n",
       "    .dataframe thead th {\n",
       "        text-align: right;\n",
       "    }\n",
       "</style>\n",
       "<table border=\"1\" class=\"dataframe\">\n",
       "  <thead>\n",
       "    <tr style=\"text-align: right;\">\n",
       "      <th></th>\n",
       "      <th>mean</th>\n",
       "      <th>mean_se</th>\n",
       "      <th>mean_ci_lower</th>\n",
       "      <th>mean_ci_upper</th>\n",
       "      <th>obs_ci_lower</th>\n",
       "      <th>obs_ci_upper</th>\n",
       "    </tr>\n",
       "  </thead>\n",
       "  <tbody>\n",
       "    <tr>\n",
       "      <th>0</th>\n",
       "      <td>2.618333</td>\n",
       "      <td>0.005452</td>\n",
       "      <td>2.606554</td>\n",
       "      <td>2.630112</td>\n",
       "      <td>2.573739</td>\n",
       "      <td>2.662927</td>\n",
       "    </tr>\n",
       "  </tbody>\n",
       "</table>\n",
       "</div>"
      ],
      "text/plain": [
       "       mean   mean_se  mean_ci_lower  mean_ci_upper  obs_ci_lower  \\\n",
       "0  2.618333  0.005452       2.606554       2.630112      2.573739   \n",
       "\n",
       "   obs_ci_upper  \n",
       "0      2.662927  "
      ]
     },
     "execution_count": 11,
     "metadata": {},
     "output_type": "execute_result"
    }
   ],
   "source": [
    "#get    prediction    for    x    =    5,000    along    with    the    standard    deviation    of    the    fit \n",
    "#and    the    95%    confidence    interval\n",
    "\n",
    "prediction = results.get_prediction(exog=dict(pressure=5000)) \n",
    "prediction.summary_frame(alpha=0.05)"
   ]
  },
  {
   "cell_type": "code",
   "execution_count": null,
   "id": "bbc4cf09-5a17-4fac-884a-b7ac605ff626",
   "metadata": {},
   "outputs": [],
   "source": []
  },
  {
   "cell_type": "code",
   "execution_count": null,
   "id": "0f7c12cf-34f9-4abd-ba53-94f44c8ad570",
   "metadata": {},
   "outputs": [],
   "source": []
  }
 ],
 "metadata": {
  "kernelspec": {
   "display_name": "Python 3 (ipykernel)",
   "language": "python",
   "name": "python3"
  },
  "language_info": {
   "codemirror_mode": {
    "name": "ipython",
    "version": 3
   },
   "file_extension": ".py",
   "mimetype": "text/x-python",
   "name": "python",
   "nbconvert_exporter": "python",
   "pygments_lexer": "ipython3",
   "version": "3.11.5"
  }
 },
 "nbformat": 4,
 "nbformat_minor": 5
}
